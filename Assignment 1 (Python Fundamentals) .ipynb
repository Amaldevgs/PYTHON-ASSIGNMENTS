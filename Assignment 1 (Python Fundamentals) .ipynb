{
 "cells": [
  {
   "cell_type": "markdown",
   "id": "bc93af2f-0f4e-463d-abe1-670362a6b099",
   "metadata": {},
   "source": [
    "#Excercise 1"
   ]
  },
  {
   "cell_type": "code",
   "execution_count": null,
   "id": "68d0d107-ecfd-4ed9-8553-411f78ffc45a",
   "metadata": {},
   "outputs": [],
   "source": [
    "# printing name, student Id, Email"
   ]
  },
  {
   "cell_type": "code",
   "execution_count": 3,
   "id": "0952ba54-6366-480c-84c7-1dfa012c9735",
   "metadata": {},
   "outputs": [
    {
     "name": "stdout",
     "output_type": "stream",
     "text": [
      "Charlie\n",
      "ST1001\n",
      "charlie@gmail.com\n"
     ]
    }
   ],
   "source": [
    "print(\"Charlie\")\n",
    "print(\"ST1001\")\n",
    "print(\"charlie@gmail.com\")"
   ]
  },
  {
   "cell_type": "markdown",
   "id": "6791db69-2a93-4791-9e9e-258daaec2a7f",
   "metadata": {},
   "source": [
    "#Excercise 2"
   ]
  },
  {
   "cell_type": "code",
   "execution_count": 5,
   "id": "177a28bc-4694-407c-ae34-ed9ddb359399",
   "metadata": {},
   "outputs": [
    {
     "name": "stdout",
     "output_type": "stream",
     "text": [
      "Charlie \n",
      "ST1001 \n",
      "charlie@gmail.com\n"
     ]
    }
   ],
   "source": [
    "#python code using escape sequence\n",
    "print('Charlie \\nST1001 \\ncharlie@gmail.com')"
   ]
  },
  {
   "cell_type": "markdown",
   "id": "798294bf-9d6d-4739-9802-fea92d2d105f",
   "metadata": {},
   "source": [
    "#Excercise 3"
   ]
  },
  {
   "cell_type": "code",
   "execution_count": 7,
   "id": "25be5edb-a539-43ce-8a7a-f0ade5413a07",
   "metadata": {},
   "outputs": [
    {
     "name": "stdout",
     "output_type": "stream",
     "text": [
      "14+7 = 21\n",
      "14-7 = 7\n",
      "14*7 = 98\n",
      "14/7 = 2.0\n"
     ]
    }
   ],
   "source": [
    "# adding,substracting, multiplying and dividing two numbers\n",
    "a=14\n",
    "b=7\n",
    "print(f\"{a}+{b} = {a+b}\")\n",
    "print(f\"{a}-{b} = {a-b}\")\n",
    "print(f\"{a}*{b} = {a*b}\")\n",
    "print(f\"{a}/{b} = {a/b}\")"
   ]
  },
  {
   "cell_type": "markdown",
   "id": "fc6dec82-55fa-49b8-9650-b2b9d446183e",
   "metadata": {},
   "source": [
    "#Excercise 4"
   ]
  },
  {
   "cell_type": "code",
   "execution_count": 9,
   "id": "7007babf-a80c-4229-acf0-ff0c4e15fcca",
   "metadata": {},
   "outputs": [
    {
     "name": "stdout",
     "output_type": "stream",
     "text": [
      "1 \n",
      "2 \n",
      "3 \n",
      "4 \n",
      "5\n"
     ]
    }
   ],
   "source": [
    "# Displaying number 1 to 5 in steps\n",
    "print('1 \\n2 \\n3 \\n4 \\n5')"
   ]
  },
  {
   "cell_type": "markdown",
   "id": "b954801e-bcdb-4ca6-9fc9-cd037f95b7ee",
   "metadata": {},
   "source": [
    "#Excercise 5"
   ]
  },
  {
   "cell_type": "code",
   "execution_count": null,
   "id": "2f2b5a4d-bebb-4da9-bb0d-f80592e41e96",
   "metadata": {},
   "outputs": [],
   "source": [
    "# writing the same sentence including letters and characters\n",
    "print(\"\\\"SDK\\\" stands for \\\"Software Development Kit\\\", whereas \\\"IDE\\\" stands for \\\"Integrated Development Environment\\\".\")\n",
    "\"SDK\" stands for \"Software Development Kit\", whereas \"IDE\" stands for \"Integrated Development Environment\"."
   ]
  },
  {
   "cell_type": "markdown",
   "id": "ba4b4a68-4faa-40cc-8a20-fd484eeff307",
   "metadata": {},
   "source": [
    "#Excercise 6"
   ]
  },
  {
   "cell_type": "code",
   "execution_count": 13,
   "id": "dd5435a4-af73-4f45-9d56-58ab1b8105f0",
   "metadata": {},
   "outputs": [
    {
     "name": "stdout",
     "output_type": "stream",
     "text": [
      "python is an \"awesome\" language.\n",
      "python\n",
      "\t2023\n",
      "I'm from Entri\n",
      "5\n",
      "e\n",
      "Entri\n",
      "2023\n",
      "Entr2023\n",
      "Entri*20"
     ]
    }
   ],
   "source": [
    "# checking for outputs\n",
    "print(\"python is an \\\"awesome\\\" language.\")\n",
    "print(\"python\\n\\t2023\")\n",
    "print('I\\'m from Entri.\\b')\n",
    "print(\"\\65\") \n",
    "print(\"\\x65\")\n",
    "print(\"Entri\", \"2023\", sep=\"\\n\")\n",
    "print(\"Entri\", \"2023\", sep=\"\\b\")\n",
    "print(\"Entri\", \"2023\", sep=\"*\", end=\"\\b\\b\\b\\b\")"
   ]
  },
  {
   "cell_type": "markdown",
   "id": "7079cf7c-bef8-418c-bd0b-045f3458c4d7",
   "metadata": {},
   "source": [
    "#Excercise 7"
   ]
  },
  {
   "cell_type": "code",
   "execution_count": 15,
   "id": "21e6b26d-f5a8-4056-9846-1dcd424c9fe5",
   "metadata": {},
   "outputs": [
    {
     "name": "stdout",
     "output_type": "stream",
     "text": [
      "The type of num is: <class 'int'>\n",
      "The type of textnum is: <class 'str'>\n",
      "The type of decimal is: <class 'float'>\n",
      "Sum: 178.3\n",
      "type of sum is: <class 'float'>\n"
     ]
    }
   ],
   "source": [
    "# checking the variables\n",
    "num = 23\n",
    "textnum = \"57\"\n",
    "decimal = 98.3\n",
    "print('The type of num is:',type(num))\n",
    "print('The type of textnum is:',type(textnum))\n",
    "print('The type of decimal is:',type(decimal))\n",
    "The_sum_of_Variables = num+ int(textnum)+ decimal\n",
    "print(\"Sum:\", The_sum_of_Variables)\n",
    "print('type of sum is:', type(The_sum_of_Variables))"
   ]
  },
  {
   "cell_type": "markdown",
   "id": "f41ea218-093b-4e4d-a90c-da6aacb673a4",
   "metadata": {},
   "source": [
    "#Excercise 8"
   ]
  },
  {
   "cell_type": "code",
   "execution_count": 17,
   "id": "89eb7990-08a5-48b8-85a8-db21c0c9669e",
   "metadata": {},
   "outputs": [
    {
     "name": "stdout",
     "output_type": "stream",
     "text": [
      "The total number of minutes in a year :525600\n"
     ]
    }
   ],
   "source": [
    "# Calculating number of minutes in a year\n",
    "No_of_days_in_a_year = 365\n",
    "Minute_in_a_hour = 60\n",
    "Hours_in_a_day = 24\n",
    "The_total_minutes_in_a_year = No_of_days_in_a_year*Minute_in_a_hour*Hours_in_a_day\n",
    "print(f\"The total number of minutes in a year :{The_total_minutes_in_a_year}\")"
   ]
  },
  {
   "cell_type": "markdown",
   "id": "8e22c887-f19f-44df-8484-cbf1396e3d5e",
   "metadata": {},
   "source": [
    "#Excercise 9"
   ]
  },
  {
   "cell_type": "code",
   "execution_count": 19,
   "id": "5af0721e-721a-4d03-841e-3d9e984c4e0c",
   "metadata": {},
   "outputs": [
    {
     "name": "stdin",
     "output_type": "stream",
     "text": [
      "Please enter you name: Charlie\n"
     ]
    },
    {
     "name": "stdout",
     "output_type": "stream",
     "text": [
      "Hi Charlie, welcome to Python programming :)\n"
     ]
    }
   ],
   "source": [
    "# printing an automatic greeting message while entering a name\n",
    "Name = input(\"Please enter you name:\")\n",
    "print(f\"Hi {Name}, welcome to Python programming :)\")"
   ]
  },
  {
   "cell_type": "markdown",
   "id": "35cfdcca-5115-4839-9a75-94b29163278d",
   "metadata": {},
   "source": [
    "#Excercise 10"
   ]
  },
  {
   "cell_type": "code",
   "execution_count": 21,
   "id": "de705741-b501-4eea-a423-4fbbf9595f83",
   "metadata": {},
   "outputs": [
    {
     "name": "stdin",
     "output_type": "stream",
     "text": [
      "enter an amount in pounds:(£) 78\n"
     ]
    },
    {
     "name": "stdout",
     "output_type": "stream",
     "text": [
      "£78.0 are $98.28\n"
     ]
    }
   ],
   "source": [
    "#Converting amount in pound to dollar(Same also attached with notepad document with file name)\n",
    "Pounds = float(input('enter an amount in pounds:(£)'))\n",
    "Dollar_conversion_rate = 1.26\n",
    "Dollars = Pounds * Dollar_conversion_rate \n",
    "print(f\"£{Pounds} are ${Dollars}\")"
   ]
  }
 ],
 "metadata": {
  "kernelspec": {
   "display_name": "Python [conda env:base] *",
   "language": "python",
   "name": "conda-base-py"
  },
  "language_info": {
   "codemirror_mode": {
    "name": "ipython",
    "version": 3
   },
   "file_extension": ".py",
   "mimetype": "text/x-python",
   "name": "python",
   "nbconvert_exporter": "python",
   "pygments_lexer": "ipython3",
   "version": "3.12.7"
  }
 },
 "nbformat": 4,
 "nbformat_minor": 5
}
