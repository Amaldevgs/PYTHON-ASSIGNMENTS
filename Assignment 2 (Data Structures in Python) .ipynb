{
 "cells": [
  {
   "cell_type": "markdown",
   "id": "4a77539a-19ad-42aa-b2bf-efb8dd855944",
   "metadata": {},
   "source": [
    "# Topic: List\n",
    "#Excercise"
   ]
  },
  {
   "cell_type": "code",
   "execution_count": 3,
   "id": "b3157c70-5d02-4aa1-aaf6-293a488df7ec",
   "metadata": {},
   "outputs": [
    {
     "name": "stdout",
     "output_type": "stream",
     "text": [
      "The random numbers are: [62, 82, 67, 68, 9]\n",
      "The updated list is: [62, 82, 11, 22, 33, 67, 68, 9]\n",
      "Each Element is: 62\n",
      "Each Element is: 82\n",
      "Each Element is: 11\n",
      "Each Element is: 22\n",
      "Each Element is: 33\n",
      "Each Element is: 67\n",
      "Each Element is: 68\n",
      "Each Element is: 9\n"
     ]
    }
   ],
   "source": [
    "#Creating a list of 5 random numbers (Q1)\n",
    "import random as r\n",
    "random_numbers = [r.randint(1,100) for _ in range(5)]\n",
    "print('The random numbers are:', random_numbers)\n",
    "\n",
    "#inserting new 3 values (Q2)\n",
    "random_numbers[2:2] = 11,22,33\n",
    "print('The updated list is:', random_numbers)\n",
    "\n",
    "#printing each element using a for loop (Q3)\n",
    "for e in random_numbers:\n",
    "    print('Each Element is:',e)"
   ]
  },
  {
   "cell_type": "markdown",
   "id": "8d4f0c92-6286-40c6-a083-6cdc3ab810b4",
   "metadata": {},
   "source": [
    "# Topic : Dictionary\n",
    "#Excercise"
   ]
  },
  {
   "cell_type": "code",
   "execution_count": 5,
   "id": "719aac16-38c5-4096-ab98-ae8166ba2a38",
   "metadata": {},
   "outputs": [
    {
     "name": "stdout",
     "output_type": "stream",
     "text": [
      "The student dictionary is: {'name': 'John', 'age': '25', 'address': 'New york'}\n",
      "The updated dictionary is: {'name': 'John', 'age': '25', 'address': 'New york', 'phone': '1234567890'}\n"
     ]
    }
   ],
   "source": [
    "# creating a dictionary with keys (Q1)\n",
    "Student = {'name': 'John', 'age': '25', 'address': 'New york'}\n",
    "print('The student dictionary is:', Student)\n",
    "\n",
    "#adding a new value pair to the dictionary (Q2)\n",
    "Student ['phone'] = '1234567890' \n",
    "print ('The updated dictionary is:', Student)"
   ]
  },
  {
   "cell_type": "markdown",
   "id": "efecbec1-9f3b-452f-baf2-8c8f0fef6e80",
   "metadata": {},
   "source": [
    "# Topic : Set\n",
    "#Excercise"
   ]
  },
  {
   "cell_type": "code",
   "execution_count": 7,
   "id": "bb9d7f76-f336-432e-9437-da599da36763",
   "metadata": {},
   "outputs": [
    {
     "name": "stdout",
     "output_type": "stream",
     "text": [
      "The numbers in set are: {1, 2, 3, 4, 5}\n",
      "The updated set after adding 6 is: {1, 2, 3, 4, 5, 6}\n",
      "The set after removing 3 is: {1, 2, 4, 5, 6}\n"
     ]
    }
   ],
   "source": [
    "# creating set with values 1 to 5 (Q1)\n",
    "Numbers = {1, 2, 3, 4, 5}\n",
    "print('The numbers in set are:', Numbers)\n",
    "\n",
    "# adding a new value (6) to the list (Q2)\n",
    "Numbers.add(6)\n",
    "print('The updated set after adding 6 is:', Numbers)\n",
    "\n",
    "# Removing value 3 from set (Q3)\n",
    "Numbers.remove(3)\n",
    "print('The set after removing 3 is:', Numbers)"
   ]
  },
  {
   "cell_type": "markdown",
   "id": "5a5149e4-f397-40a0-8261-cce0b6f0e808",
   "metadata": {},
   "source": [
    "# Topic : Tuple\n",
    "#Excercise"
   ]
  },
  {
   "cell_type": "code",
   "execution_count": 9,
   "id": "73a9b4db-32f0-4f92-86cb-d18265aaa44f",
   "metadata": {},
   "outputs": [
    {
     "name": "stdout",
     "output_type": "stream",
     "text": [
      "The values in the tuple is: (1, 2, 3, 4)\n",
      "The length of tuple_1 is: 4\n"
     ]
    }
   ],
   "source": [
    "#creating a tuple(Q1)\n",
    "tuple_1 = (1,2,3,4)\n",
    "print('The values in the tuple is:', tuple_1)\n",
    "\n",
    "#calculating ythe number of elrments/length of the tuple (Q2)\n",
    "print('The length of tuple_1 is:', len(tuple_1))"
   ]
  }
 ],
 "metadata": {
  "kernelspec": {
   "display_name": "Python [conda env:base] *",
   "language": "python",
   "name": "conda-base-py"
  },
  "language_info": {
   "codemirror_mode": {
    "name": "ipython",
    "version": 3
   },
   "file_extension": ".py",
   "mimetype": "text/x-python",
   "name": "python",
   "nbconvert_exporter": "python",
   "pygments_lexer": "ipython3",
   "version": "3.12.7"
  }
 },
 "nbformat": 4,
 "nbformat_minor": 5
}
