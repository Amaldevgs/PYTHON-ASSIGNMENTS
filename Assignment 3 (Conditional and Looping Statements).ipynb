{
 "cells": [
  {
   "cell_type": "markdown",
   "id": "cefae4e4-3221-4909-965a-8f59c7d0592f",
   "metadata": {},
   "source": [
    "# Exercise 1"
   ]
  },
  {
   "cell_type": "code",
   "execution_count": 1,
   "id": "c4b5f643-c18b-418d-9df9-eaac5cb44a1d",
   "metadata": {},
   "outputs": [
    {
     "name": "stdin",
     "output_type": "stream",
     "text": [
      "Enter the month(1-12):  3\n"
     ]
    },
    {
     "name": "stdout",
     "output_type": "stream",
     "text": [
      "Month 3 is March\n"
     ]
    }
   ],
   "source": [
    "# printing Month names according to Month number(also attached in seperate file)\n",
    "\n",
    "Month_num = int(input('Enter the month(1-12): '))\n",
    "\n",
    "if Month_num ==1: \n",
    "    print('Month 1 is January')\n",
    "elif Month_num==2: \n",
    "    print('Month 2 is February')\n",
    "elif Month_num==3: \n",
    "    print('Month 3 is March')\n",
    "elif Month_num==4: \n",
    "    print('Month 4 is April')\n",
    "elif Month_num==5: \n",
    "    print('Month 5 is May') \n",
    "elif Month_num==6: \n",
    "    print('Month 6 is June')\n",
    "elif Month_num==7: \n",
    "    print('Month 7 is July')\n",
    "elif Month_num==8: \n",
    "    print('Month 8 is August')\n",
    "elif Month_num==9: \n",
    "    print('Month 9 is September')\n",
    "elif Month_num==10: \n",
    "    print('Month 10 is October')\n",
    "elif Month_num==11: \n",
    "    print('Month 11 is November')\n",
    "elif Month_num==12: \n",
    "    print('Month 12 is December')\n",
    "else: print('Month does not exist! please enter a number between 1 and 12')"
   ]
  },
  {
   "cell_type": "markdown",
   "id": "52aca55a-19c8-46e7-b1a7-e24afd1f555f",
   "metadata": {},
   "source": [
    "# Exercise 2"
   ]
  },
  {
   "cell_type": "code",
   "execution_count": 17,
   "id": "6d7424e9-a4cf-42a5-982e-f25cfeb58cdc",
   "metadata": {},
   "outputs": [
    {
     "name": "stdin",
     "output_type": "stream",
     "text": [
      "Enter your age:  14\n"
     ]
    },
    {
     "name": "stdout",
     "output_type": "stream",
     "text": [
      "Your ticket costs £3.0\n"
     ]
    }
   ],
   "source": [
    "# printing ticket price according to age\n",
    "\n",
    "Age = int(input('Enter your age: '))\n",
    "full_price = 6.0\n",
    "\n",
    "if Age <16: \n",
    "    print(f'Your ticket costs £{ full_price / 3}')\n",
    "elif Age >=60:\n",
    "    print(f'Your ticket costs £{ full_price /4}')\n",
    "else: \n",
    "    print(f'Your ticket costs £{ full_price}')\n",
    "    63"
   ]
  },
  {
   "cell_type": "markdown",
   "id": "a449fc3b-5ec3-4bd4-b4fa-f333a6096448",
   "metadata": {},
   "source": [
    "# Exercise 3 "
   ]
  },
  {
   "cell_type": "code",
   "execution_count": 19,
   "id": "14d1f407-1131-4ed3-b793-0448db88459c",
   "metadata": {},
   "outputs": [
    {
     "name": "stdin",
     "output_type": "stream",
     "text": [
      "Enter your weight in (Kg):  81\n",
      "Enter your height in (m):  1.7\n"
     ]
    },
    {
     "name": "stdout",
     "output_type": "stream",
     "text": [
      "Your BMI is: 28.027681660899656\n",
      "You are in the “overweight” range.\n"
     ]
    }
   ],
   "source": [
    "# calculating BMI and health condition accordingly(also attached is seperate file)\n",
    "# Body Mass Index (BMI) = weight(kg)/height2(m2)\n",
    "\n",
    "Persons_weight = float(input('Enter your weight in (Kg): '))\n",
    "Persons_height = float(input('Enter your height in (m): '))\n",
    "BMI_of_person = Persons_weight/ (Persons_height ** 2)\n",
    "\n",
    "print(f\"Your BMI is: {BMI_of_person}\")\n",
    "if BMI_of_person <18.5: \n",
    "    print('You are in the “underweight” range.')\n",
    "elif 18.5<= BMI_of_person <=24.9 :\n",
    "    print('You are in the “Normal” range.')\n",
    "elif 25<= BMI_of_person<=29.9:\n",
    "    print('You are in the “overweight” range.')\n",
    "else: \n",
    "    print('You are Obese')"
   ]
  },
  {
   "cell_type": "markdown",
   "id": "f14b9f4e-3e91-4e2a-9007-6776a18b3574",
   "metadata": {},
   "source": [
    "# Exercise 4"
   ]
  },
  {
   "cell_type": "code",
   "execution_count": 23,
   "id": "d566990b-2744-4277-8162-45e4af1fa67f",
   "metadata": {},
   "outputs": [
    {
     "name": "stdin",
     "output_type": "stream",
     "text": [
      "Enter your number N1:  112\n",
      "Enter your number N2:  211\n",
      "Enter your number N3:  322\n"
     ]
    },
    {
     "name": "stdout",
     "output_type": "stream",
     "text": [
      "The greatest among the numbers is: 322\n"
     ]
    }
   ],
   "source": [
    "# finding greatest value among 3 numbers\n",
    "\n",
    "Number1 = int(input('Enter your number N1: '))\n",
    "Number2 = int(input('Enter your number N2: '))\n",
    "Number3 = int(input('Enter your number N3: '))\n",
    "print ('The greatest among the numbers is:', max( Number1,Number2,Number3))"
   ]
  },
  {
   "cell_type": "markdown",
   "id": "9a1e21b0-fd5c-4134-bc0a-4aa20f0ec6f2",
   "metadata": {},
   "source": [
    "# Exercise 5"
   ]
  },
  {
   "cell_type": "code",
   "execution_count": 29,
   "id": "dc2c6c56-2ad3-4209-ab2e-251ceb5e1a30",
   "metadata": {},
   "outputs": [
    {
     "name": "stdin",
     "output_type": "stream",
     "text": [
      "Enter a number:  6\n"
     ]
    },
    {
     "name": "stdout",
     "output_type": "stream",
     "text": [
      "The factorial of Number is 720\n"
     ]
    }
   ],
   "source": [
    "#  finding the factorial of a number \n",
    "\n",
    "Number = int(input(\"Enter a number: \"))\n",
    "factorial = 1\n",
    "\n",
    "if Number < 0:\n",
    "      print(\"Cannot print factorial for negative numbers.\")\n",
    "else:\n",
    "    for n in range (1, Number + 1):\n",
    "       factorial *= n\n",
    "    print(f\"The factorial of Number is {factorial}\")"
   ]
  },
  {
   "cell_type": "markdown",
   "id": "dde7f664-8800-46a6-b680-78a31c462e1a",
   "metadata": {},
   "source": [
    "# Excercise 6"
   ]
  },
  {
   "cell_type": "code",
   "execution_count": 31,
   "id": "832d7060-2396-4fed-a223-255226564e9d",
   "metadata": {},
   "outputs": [
    {
     "name": "stdin",
     "output_type": "stream",
     "text": [
      "Enter a number: 45\n"
     ]
    },
    {
     "name": "stdout",
     "output_type": "stream",
     "text": [
      "Reversed_Number is : 54\n"
     ]
    }
   ],
   "source": [
    "# printing a number in reverse  format using while loop\n",
    "\n",
    "Number = int(input('Enter a number:'))\n",
    "Reversed_Number = 0\n",
    "\n",
    "while Number:\n",
    "    Reversed_Number = Reversed_Number * 10 + Number % 10\n",
    "    Number //= 10\n",
    "    \n",
    "print(f\"Reversed_Number is :\", Reversed_Number)"
   ]
  },
  {
   "cell_type": "markdown",
   "id": "4f0e7a97-0cd8-4606-85d4-8685788f2cea",
   "metadata": {},
   "source": [
    "# Exercise 7"
   ]
  },
  {
   "cell_type": "code",
   "execution_count": 35,
   "id": "51ea6456-8897-4ad4-8035-2183dd089242",
   "metadata": {},
   "outputs": [
    {
     "name": "stdin",
     "output_type": "stream",
     "text": [
      "Enter a number:  6\n",
      "Enter a Limit:  4\n"
     ]
    },
    {
     "name": "stdout",
     "output_type": "stream",
     "text": [
      "Multiples of 6 up to 4:\n",
      "6 * 1 = 6\n",
      "6 * 2 = 12\n",
      "6 * 3 = 18\n",
      "6 * 4 = 24\n"
     ]
    }
   ],
   "source": [
    "# printing multiplication of a number up to a range\n",
    "Number = int(input(\"Enter a number: \"))\n",
    "Range = int(input(\"Enter a Limit: \"))\n",
    "\n",
    "if Number < 0:\n",
    "      print(\"Multiplication will be negetive for negative numbers.\")\n",
    "elif Number == 0:\n",
    "      print(\"Multiplication answer will be Zero\")\n",
    "else:\n",
    "   print(f\"Multiples of {Number} up to {Range}:\")\n",
    "for n in range (1, Range + 1):\n",
    "    print(f\"{Number} * {n} = {Number*n}\")"
   ]
  },
  {
   "cell_type": "markdown",
   "id": "e8007480-23a7-442d-b772-cadab7c79327",
   "metadata": {},
   "source": [
    "# Exercise 8"
   ]
  },
  {
   "cell_type": "code",
   "execution_count": 37,
   "id": "1d2db7d6-2543-46b3-b05f-bf6c7ff11b7f",
   "metadata": {},
   "outputs": [
    {
     "name": "stdin",
     "output_type": "stream",
     "text": [
      ": Hello there\n"
     ]
    },
    {
     "name": "stdout",
     "output_type": "stream",
     "text": [
      "Hello there\n"
     ]
    },
    {
     "name": "stdin",
     "output_type": "stream",
     "text": [
      ": finished\n"
     ]
    },
    {
     "name": "stdout",
     "output_type": "stream",
     "text": [
      "finished\n"
     ]
    },
    {
     "name": "stdin",
     "output_type": "stream",
     "text": [
      ": done\n"
     ]
    },
    {
     "name": "stdout",
     "output_type": "stream",
     "text": [
      "Done\n"
     ]
    }
   ],
   "source": [
    "# printing a value to be break when it comes 'done'\n",
    "while True:\n",
    "    i = input(\":\")\n",
    "    if i == 'done':\n",
    "        print(\"Done\")\n",
    "        break\n",
    "    else:\n",
    "        print(i)"
   ]
  },
  {
   "cell_type": "markdown",
   "id": "4f64e7c3-8056-4e61-82bd-0dedaea8cf8a",
   "metadata": {},
   "source": [
    "# Exercise 9"
   ]
  },
  {
   "cell_type": "code",
   "execution_count": 39,
   "id": "a001f049-96b4-4dd0-ba0e-6a5149c22f96",
   "metadata": {},
   "outputs": [
    {
     "name": "stdout",
     "output_type": "stream",
     "text": [
      "1\n",
      "2\n",
      "Fizz\n",
      "4\n",
      "Buzz\n",
      "Fizz\n",
      "7\n",
      "8\n",
      "Fizz\n",
      "Buzz\n"
     ]
    }
   ],
   "source": [
    "# printing 'fizz','buzz','fizzbuzz',instead of multiplication of 3,5 and both\n",
    "\n",
    "for i in range(1,11):\n",
    "    if i % 3 == 0 and i % 5 == 0:\n",
    "        print('FizzBuzz')\n",
    "    elif i % 3 ==0:\n",
    "        print ('Fizz')\n",
    "    elif i % 5 == 0:\n",
    "        print('Buzz')\n",
    "    else:\n",
    "        print(i)"
   ]
  },
  {
   "cell_type": "markdown",
   "id": "f1be571b-03d0-4cfe-8212-ab9f1d8f409f",
   "metadata": {},
   "source": [
    "# Exercise 10"
   ]
  },
  {
   "cell_type": "code",
   "execution_count": 41,
   "id": "fc270751-873e-4075-8b57-6c9192061705",
   "metadata": {},
   "outputs": [
    {
     "name": "stdout",
     "output_type": "stream",
     "text": [
      "5 4 3 2 1 \n",
      "4 3 2 1 \n",
      "3 2 1 \n",
      "2 1 \n",
      "1 \n"
     ]
    }
   ],
   "source": [
    "# code for the specific pattern\n",
    "\n",
    "i = 5\n",
    "while i > 0:\n",
    "    j = i\n",
    "    while j > 0:\n",
    "        print (j, end=\" \")\n",
    "        j -= 1\n",
    "    print()\n",
    "    i -=1"
   ]
  }
 ],
 "metadata": {
  "kernelspec": {
   "display_name": "Python [conda env:base] *",
   "language": "python",
   "name": "conda-base-py"
  },
  "language_info": {
   "codemirror_mode": {
    "name": "ipython",
    "version": 3
   },
   "file_extension": ".py",
   "mimetype": "text/x-python",
   "name": "python",
   "nbconvert_exporter": "python",
   "pygments_lexer": "ipython3",
   "version": "3.12.7"
  }
 },
 "nbformat": 4,
 "nbformat_minor": 5
}
