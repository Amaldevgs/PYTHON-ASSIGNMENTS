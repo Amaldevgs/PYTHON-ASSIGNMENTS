{
 "cells": [
  {
   "cell_type": "markdown",
   "id": "4a9322fb-81db-4c01-b734-ba0626fd933b",
   "metadata": {},
   "source": [
    "# Excercise 1"
   ]
  },
  {
   "cell_type": "code",
   "execution_count": 1,
   "id": "351154b6-30c8-4bd8-bff0-cafe1b5fc839",
   "metadata": {},
   "outputs": [],
   "source": [
    "# creating a function having 3 differnt arguments\n",
    "\n",
    "def Different_function(a, b = 10, c = None):\n",
    "    if c is None:\n",
    "        print(a+b)\n",
    "    else:\n",
    "        print (a*b*c)"
   ]
  },
  {
   "cell_type": "code",
   "execution_count": 3,
   "id": "9eeba325-83b0-43bd-a545-bda053f5169a",
   "metadata": {},
   "outputs": [
    {
     "name": "stdout",
     "output_type": "stream",
     "text": [
      "13\n",
      "7\n",
      "60\n"
     ]
    }
   ],
   "source": [
    "# checking for result\n",
    "Different_function(3)\n",
    "Different_function(3,4)\n",
    "Different_function(3,4,5)"
   ]
  },
  {
   "cell_type": "markdown",
   "id": "9848d741-4538-4e1c-a458-be3f1e8510ef",
   "metadata": {},
   "source": [
    "# Excercise 2"
   ]
  },
  {
   "cell_type": "code",
   "execution_count": 5,
   "id": "b8858b8b-e0f0-41cc-9cc5-59f34c63aa82",
   "metadata": {},
   "outputs": [],
   "source": [
    "# checking for the string having len >=5 \n",
    "def long_strings(S):\n",
    "    def is_long(s):\n",
    "        return len(s) >=5\n",
    "    return list(filter(is_long,S))"
   ]
  },
  {
   "cell_type": "code",
   "execution_count": 7,
   "id": "774857c2-ad4a-44ba-9595-567dcf9a2d53",
   "metadata": {},
   "outputs": [
    {
     "name": "stdout",
     "output_type": "stream",
     "text": [
      "The string having len>=5 in S1: ['12345', '123456', '1234567']\n",
      "The string having len>=5 in S2: ['abcde', 'abcdef']\n"
     ]
    }
   ],
   "source": [
    "# checking for values(strings)\n",
    "String_S1 = ['123','1234','12345','123456','1234567']\n",
    "String_S2 = ['ab','abc','abcd','abcde','abcdef']\n",
    "print('The string having len>=5 in S1:',long_strings(String_S1))\n",
    "print('The string having len>=5 in S2:',long_strings(String_S2))"
   ]
  },
  {
   "cell_type": "markdown",
   "id": "26129bcd-df82-4efa-b35f-341ab9760225",
   "metadata": {},
   "source": [
    "# Excercise 3"
   ]
  },
  {
   "cell_type": "code",
   "execution_count": 9,
   "id": "27584f93-52ef-456e-8cf8-8217a4203aac",
   "metadata": {},
   "outputs": [
    {
     "name": "stdout",
     "output_type": "stream",
     "text": [
      "the output of the expression is : 17\n"
     ]
    }
   ],
   "source": [
    "# findind result for equation using eval() function\n",
    "expression = \"3*5+2\"\n",
    "Result =eval(expression)\n",
    "print('the output of the expression is :', Result)"
   ]
  },
  {
   "cell_type": "markdown",
   "id": "03d17e1e-af3c-4758-a5df-8cfa61c64a45",
   "metadata": {},
   "source": [
    "# Excercise 4"
   ]
  },
  {
   "cell_type": "code",
   "execution_count": 11,
   "id": "84359417-7e27-4de9-9384-840c71c5578c",
   "metadata": {},
   "outputs": [
    {
     "name": "stdout",
     "output_type": "stream",
     "text": [
      "The prime numbers are: [5, 13, 17, 7]\n"
     ]
    }
   ],
   "source": [
    "# filtering prime number from list of integers\n",
    "def is_prime(p):\n",
    "    if p < 2:\n",
    "        return False\n",
    "    for i in range(2,int(p**0.5) + 1):\n",
    "        if p % i == 0:\n",
    "            return False\n",
    "    return True \n",
    "    \n",
    "# checking for numbers\n",
    "Numbers = [1,5,8,46,16,22,21,27,13,17,9,7]\n",
    "Prime_numbers = list(filter(is_prime, Numbers))\n",
    "print('The prime numbers are:', Prime_numbers)\n"
   ]
  },
  {
   "cell_type": "markdown",
   "id": "a8320562-808e-4cd8-a45d-e2f807359874",
   "metadata": {},
   "source": [
    "# Excercise 5"
   ]
  },
  {
   "cell_type": "code",
   "execution_count": 13,
   "id": "547dfe12-2adc-46fb-9182-9ea128c234a3",
   "metadata": {},
   "outputs": [
    {
     "name": "stdout",
     "output_type": "stream",
     "text": [
      "['JANUARY', 'FEBRUARY', 'MARCH', 'APRIL', 'MAY', 'JUNE', 'JULY', 'AUGUST']\n"
     ]
    }
   ],
   "source": [
    "# Converting list of strings to uppercase using map() function\n",
    "def uppercase(strings):\n",
    "  return list(map(str.upper, strings))\n",
    "\n",
    "List_of_strings = ['January','February', 'March', 'April', 'May', 'June', 'July', 'August']\n",
    "print (uppercase(List_of_strings))"
   ]
  }
 ],
 "metadata": {
  "kernelspec": {
   "display_name": "Python [conda env:base] *",
   "language": "python",
   "name": "conda-base-py"
  },
  "language_info": {
   "codemirror_mode": {
    "name": "ipython",
    "version": 3
   },
   "file_extension": ".py",
   "mimetype": "text/x-python",
   "name": "python",
   "nbconvert_exporter": "python",
   "pygments_lexer": "ipython3",
   "version": "3.12.7"
  }
 },
 "nbformat": 4,
 "nbformat_minor": 5
}
