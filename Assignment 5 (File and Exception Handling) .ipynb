{
 "cells": [
  {
   "cell_type": "markdown",
   "id": "f29fe497-5baf-495f-8962-1ece15e2065c",
   "metadata": {},
   "source": [
    "# Exercise 1"
   ]
  },
  {
   "cell_type": "code",
   "execution_count": 1,
   "id": "35d0f714-70cd-479b-b16d-9f7231f56c48",
   "metadata": {},
   "outputs": [],
   "source": [
    "# writing a program to read a file\n",
    "\n",
    "file = open('Sample_1','w')\n",
    "file.write(\"Hello, This is your sample demo.\")\n",
    "file.close()"
   ]
  },
  {
   "cell_type": "code",
   "execution_count": 3,
   "id": "cebd3b71-dbc5-4257-835b-73d956ab0714",
   "metadata": {},
   "outputs": [
    {
     "name": "stdout",
     "output_type": "stream",
     "text": [
      "The content of the file is: Hello, This is your sample demo.\n"
     ]
    }
   ],
   "source": [
    "# to read the file\n",
    "with open('Sample_1','r') as file:\n",
    "    content = file.read()\n",
    "    print('The content of the file is:', content)"
   ]
  },
  {
   "cell_type": "markdown",
   "id": "851c9a88-fa12-44a3-bcc4-c58c2af6487b",
   "metadata": {},
   "source": [
    "# Exercise 2"
   ]
  },
  {
   "cell_type": "code",
   "execution_count": 5,
   "id": "cf752fd4-79d3-4fa9-98bf-c153ca4c3bdb",
   "metadata": {},
   "outputs": [
    {
     "name": "stdout",
     "output_type": "stream",
     "text": [
      "contents copied successfully\n"
     ]
    }
   ],
   "source": [
    "# copying content to another file\n",
    "\n",
    "with open('Sample_1','r') as main_file:\n",
    "    content = main_file.read()\n",
    "\n",
    "with open('destination','w') as d:\n",
    "    d.write(content)\n",
    "    \n",
    "print(f\"contents copied successfully\")"
   ]
  },
  {
   "cell_type": "code",
   "execution_count": 7,
   "id": "a43f8cc4-fe5b-49df-9f51-d9f04e5db018",
   "metadata": {},
   "outputs": [
    {
     "name": "stdout",
     "output_type": "stream",
     "text": [
      "Hello, This is your sample demo.\n"
     ]
    }
   ],
   "source": [
    "#checking\n",
    "with open('destination', 'r') as b:\n",
    "    c = b.read()\n",
    "    print (c)"
   ]
  },
  {
   "cell_type": "markdown",
   "id": "27fe275c-99a0-40ca-8c44-45ca917c0d4a",
   "metadata": {},
   "source": [
    "# Exercise 3"
   ]
  },
  {
   "cell_type": "code",
   "execution_count": 9,
   "id": "ca5dfcd2-8841-40ba-90bc-701d8bc42e77",
   "metadata": {},
   "outputs": [
    {
     "name": "stdout",
     "output_type": "stream",
     "text": [
      "Total No_of Words = 6\n"
     ]
    }
   ],
   "source": [
    "# python code to read a file and counting number of words\n",
    "\n",
    "with open ('Sample_1', 'r') as file_1:\n",
    "  content = file_1.read()\n",
    "  words = content.split()\n",
    "  Count_of_word = len(words)\n",
    "print(f\"Total No_of Words = {Count_of_word}\")"
   ]
  },
  {
   "cell_type": "markdown",
   "id": "4c85f1a9-e91e-45e8-ae27-4b6b38310df1",
   "metadata": {},
   "source": [
    "# Excercise 4"
   ]
  },
  {
   "cell_type": "code",
   "execution_count": 15,
   "id": "7a4ce099-cf61-466a-b25f-c22df7e1f458",
   "metadata": {},
   "outputs": [
    {
     "name": "stdin",
     "output_type": "stream",
     "text": [
      "Enter a string to convert to an integer:  n\n"
     ]
    },
    {
     "name": "stdout",
     "output_type": "stream",
     "text": [
      "You are entering an invalid input! Please enter a valid number.\n"
     ]
    }
   ],
   "source": [
    "# checking for a string to convert integer and using trya nd except\n",
    "User_input = input(\"Enter a string to convert to an integer: \")\n",
    "try:\n",
    "    Number = int (User_input)\n",
    "    print(f\"Converted_no.is : {Number}\")\n",
    "except ValueError:\n",
    "    print(\"You are entering an invalid input! Please enter a valid number.\")"
   ]
  },
  {
   "cell_type": "markdown",
   "id": "3670ba48-0188-453f-b69e-260194ed8b9e",
   "metadata": {},
   "source": [
    "# Excercise 5"
   ]
  },
  {
   "cell_type": "code",
   "execution_count": 25,
   "id": "a044a425-2389-441f-adfa-ebdeba8fd7fa",
   "metadata": {},
   "outputs": [
    {
     "name": "stdin",
     "output_type": "stream",
     "text": [
      "Enter a list of integers seperated by spaces:  -3\n"
     ]
    },
    {
     "name": "stdout",
     "output_type": "stream",
     "text": [
      "Error: Negative integers are not allowed.\n"
     ]
    }
   ],
   "source": [
    "# raise exception while entering negetive integers\n",
    "User_input = input(\"Enter a list of integers seperated by spaces: \")\n",
    "try:\n",
    "    Integers = list(map(int,User_input.split()))\n",
    "    if any(num < 0 for num in Integers):\n",
    "        raise ValueError(\"Negative integers are not allowed.\")\n",
    "    print(\"Valid list of integers:\", numbers)\n",
    "except ValueError as Ve:\n",
    "    print(f\"Error: {Ve}\")"
   ]
  },
  {
   "cell_type": "markdown",
   "id": "53f3bc9c-5fe9-49b9-a04d-034fcf2e9b6d",
   "metadata": {},
   "source": [
    "# Excercise 6"
   ]
  },
  {
   "cell_type": "code",
   "execution_count": 27,
   "id": "d02f227c-787e-4f83-bfa0-6081c8876335",
   "metadata": {},
   "outputs": [
    {
     "name": "stdin",
     "output_type": "stream",
     "text": [
      "Enter a list of integers seperated by spaces:  21 22 64 54\n"
     ]
    },
    {
     "name": "stdout",
     "output_type": "stream",
     "text": [
      "Average: 40.25\n",
      "Program has finished running\n"
     ]
    }
   ],
   "source": [
    "# computing average of integers with error handling ana using try ,except blocks to finish the program\n",
    "\n",
    "try:\n",
    "    User_input = input(\"Enter a list of integers seperated by spaces: \")\n",
    "    integers = list(map(int,User_input.split()))\n",
    "    average = sum(integers)/ len(integers)\n",
    "    print(f\"Average: {average}\")\n",
    "except ZeroDivisionError:\n",
    "    print(\"Error: Devided by zero. The list cant be empty.\")\n",
    "except ValueError:\n",
    "    print(\"Error: Please enter valid integers.\")\n",
    "finally:\n",
    "    print(\"Program has finished running\")"
   ]
  },
  {
   "cell_type": "markdown",
   "id": "00bd279d-11ce-44b8-bbb0-e16aa477e7d8",
   "metadata": {},
   "source": [
    "# Excercise 7"
   ]
  },
  {
   "cell_type": "code",
   "execution_count": 29,
   "id": "f7ae6aad-985d-49db-8e3c-5b63322b01b5",
   "metadata": {},
   "outputs": [
    {
     "name": "stdin",
     "output_type": "stream",
     "text": [
      "Enter the filename to write to:  Welcome\n",
      "Enter the content to write:  All\n"
     ]
    },
    {
     "name": "stdout",
     "output_type": "stream",
     "text": [
      "File written successfully.Welcome!\n",
      "program executed.\n"
     ]
    }
   ],
   "source": [
    "# writing a string to a file with exception hanfdling and welcoming message\n",
    "try:\n",
    "    filename = input(\"Enter the filename to write to: \")\n",
    "    content = input(\"Enter the content to write: \")\n",
    "    with open(filename, 'w') as file:\n",
    "        file.write(content)\n",
    "    print(\"File written successfully.Welcome!\")\n",
    "except Exception as e:\n",
    "    print(f\"Error: {e}\")\n",
    "finally:\n",
    "    print(f\"program executed.\")"
   ]
  }
 ],
 "metadata": {
  "kernelspec": {
   "display_name": "Python [conda env:base] *",
   "language": "python",
   "name": "conda-base-py"
  },
  "language_info": {
   "codemirror_mode": {
    "name": "ipython",
    "version": 3
   },
   "file_extension": ".py",
   "mimetype": "text/x-python",
   "name": "python",
   "nbconvert_exporter": "python",
   "pygments_lexer": "ipython3",
   "version": "3.12.7"
  }
 },
 "nbformat": 4,
 "nbformat_minor": 5
}
