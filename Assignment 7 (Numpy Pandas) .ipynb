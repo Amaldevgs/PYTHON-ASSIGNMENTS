{
 "cells": [
  {
   "cell_type": "code",
   "execution_count": 1,
   "id": "d31b2533-7846-4001-b520-bcb1dbb83d65",
   "metadata": {},
   "outputs": [],
   "source": [
    "import numpy as np\n",
    "import pandas as pd"
   ]
  },
  {
   "cell_type": "markdown",
   "id": "5878b27c-068d-482b-b2d3-e70060768852",
   "metadata": {},
   "source": [
    "Exercise 1"
   ]
  },
  {
   "cell_type": "code",
   "execution_count": 3,
   "id": "724bf6e2-1cee-4912-8307-52e65e01bd45",
   "metadata": {},
   "outputs": [
    {
     "name": "stdout",
     "output_type": "stream",
     "text": [
      "array before reshaping:\n",
      "[ 1  2  3  4  5  6  7  8  9 10]\n",
      "array after reshaping(after creating matrix):\n"
     ]
    },
    {
     "data": {
      "text/plain": [
       "array([[ 1,  2,  3,  4,  5],\n",
       "       [ 6,  7,  8,  9, 10]])"
      ]
     },
     "execution_count": 3,
     "metadata": {},
     "output_type": "execute_result"
    }
   ],
   "source": [
    "# creating numpy array from 1 to 10, then reshaping into 2X5 matrix\n",
    "array = np.arange(1,11)\n",
    "reshape = array.reshape(2, 5)\n",
    "print(\"array before reshaping:\")\n",
    "print(array)\n",
    "print(\"array after reshaping(after creating matrix):\")\n",
    "reshape"
   ]
  },
  {
   "cell_type": "markdown",
   "id": "16472804-9785-47cd-87eb-f8b9021ee011",
   "metadata": {},
   "source": [
    "Exercise 2"
   ]
  },
  {
   "cell_type": "code",
   "execution_count": 5,
   "id": "23c3194c-ad54-4c7f-8e99-ec90bd93a7bd",
   "metadata": {},
   "outputs": [
    {
     "name": "stdout",
     "output_type": "stream",
     "text": [
      "[ 1  2  3  4  5  6  7  8  9 10 11 12 13 14 15 16 17 18 19 20]\n",
      "Output after Extraction:\n",
      "[ 6  7  8  9 10 11 12 13 14 15 16]\n"
     ]
    }
   ],
   "source": [
    "# creating numpy arrays from 1 to 20 and extracting numbers between 5th and 15 th index\n",
    "array_2 = np.arange(1, 21)\n",
    "print(array_2)\n",
    "\n",
    "elements_extracted = array_2[5:16]\n",
    "print(\"Output after Extraction:\")\n",
    "print(elements_extracted)"
   ]
  },
  {
   "cell_type": "markdown",
   "id": "939f719d-b370-445b-8657-c2a9f2015648",
   "metadata": {},
   "source": [
    "Excercise 3"
   ]
  },
  {
   "cell_type": "code",
   "execution_count": 7,
   "id": "95a24299-37c6-48ea-8267-95066365b171",
   "metadata": {},
   "outputs": [
    {
     "data": {
      "text/plain": [
       "apples     3\n",
       "bananas    2\n",
       "oranges    1\n",
       "dtype: int64"
      ]
     },
     "execution_count": 7,
     "metadata": {},
     "output_type": "execute_result"
    }
   ],
   "source": [
    "# creating a panda series  \n",
    "fruits = pd.Series ({'apples': 3, 'bananas': 2, 'oranges': 1})\n",
    "fruits  "
   ]
  },
  {
   "cell_type": "code",
   "execution_count": 9,
   "id": "07b0882e-ed48-4e0f-808b-612555817e25",
   "metadata": {},
   "outputs": [
    {
     "name": "stdout",
     "output_type": "stream",
     "text": [
      "Output:\n",
      "apples     3\n",
      "bananas    2\n",
      "oranges    1\n",
      "pears      4\n",
      "dtype: int64\n"
     ]
    }
   ],
   "source": [
    "#adding a new item\n",
    "fruits['pears'] = 4\n",
    "print(\"Output:\")\n",
    "print(fruits) "
   ]
  },
  {
   "cell_type": "markdown",
   "id": "3b38ae21-27b0-43bf-819a-a287db9f0db3",
   "metadata": {},
   "source": [
    "Excercise 4"
   ]
  },
  {
   "cell_type": "code",
   "execution_count": 11,
   "id": "aeaf11a2-972a-438b-bb4e-1910e55d6c3d",
   "metadata": {},
   "outputs": [
    {
     "name": "stdout",
     "output_type": "stream",
     "text": [
      "     name  age  gender\n",
      "0  Saniya   34  Female\n",
      "1    Sony   32    Male\n",
      "2   Manju   23  Female\n",
      "3   Radha   24  Female\n",
      "4   Sunil   31    Male\n",
      "5    Mini   25  Female\n",
      "6  Sarika   19  Female\n",
      "7  Bindhu   33  Female\n",
      "8   Munni   27  Female\n",
      "9   Annie   35  Female\n"
     ]
    }
   ],
   "source": [
    "# creating a dataframe with columns name,age,gender(10 raws of data)\n",
    "\n",
    "data = {\n",
    "    'name': ['Saniya','Sony','Manju','Radha','Sunil','Mini','Sarika','Bindhu','Munni','Annie'],\n",
    "    'age' : [34,32,23,24,31,25,19,33,27,35],\n",
    "    'gender':['Female', 'Male', 'Female','Female','Male','Female','Female','Female','Female','Female']\n",
    "}\n",
    "df = pd.DataFrame(data)\n",
    "print(df)"
   ]
  },
  {
   "cell_type": "markdown",
   "id": "23652863-da36-4dcc-a3c9-37683d4fff82",
   "metadata": {},
   "source": [
    "Exercise 5"
   ]
  },
  {
   "cell_type": "code",
   "execution_count": 13,
   "id": "d706b503-0fa1-45c3-878e-a3e149519fff",
   "metadata": {},
   "outputs": [
    {
     "name": "stdout",
     "output_type": "stream",
     "text": [
      "Output:\n",
      "     name  age  gender  occupation\n",
      "0  Saniya   34  Female  Programmer\n",
      "1    Sony   32    Male     Manager\n",
      "2   Manju   23  Female     Analyst\n",
      "3   Radha   24  Female     Manager\n",
      "4   Sunil   31    Male     Manager\n",
      "5    Mini   25  Female     Analyst\n",
      "6  Sarika   19  Female  Programmer\n",
      "7  Bindhu   33  Female  Programmer\n",
      "8   Munni   27  Female     Manager\n",
      "9   Annie   35  Female     Analyst\n"
     ]
    }
   ],
   "source": [
    "# adding a new column called occupation\n",
    "df['occupation'] = ['Programmer', 'Manager', 'Analyst','Manager','Manager', 'Analyst','Programmer','Programmer', 'Manager', 'Analyst']\n",
    "print(\"Output:\")\n",
    "print(df)"
   ]
  },
  {
   "cell_type": "markdown",
   "id": "dcd42c1a-7410-496a-b755-3627c449766c",
   "metadata": {},
   "source": [
    "Exercise 6"
   ]
  },
  {
   "cell_type": "code",
   "execution_count": 15,
   "id": "59503d7b-5ab5-41bf-919a-05a9e1a31a8b",
   "metadata": {},
   "outputs": [
    {
     "name": "stdout",
     "output_type": "stream",
     "text": [
      "Output:\n",
      "     name  age  gender  occupation\n",
      "0  Saniya   34  Female  Programmer\n",
      "1    Sony   32    Male     Manager\n",
      "4   Sunil   31    Male     Manager\n",
      "7  Bindhu   33  Female  Programmer\n",
      "9   Annie   35  Female     Analyst\n"
     ]
    }
   ],
   "source": [
    "# selecting the rows of the d.frame where the age>=30\n",
    "Age_selected = df[df['age'] >= 30]\n",
    "print(\"Output:\")\n",
    "print(Age_selected)"
   ]
  },
  {
   "cell_type": "markdown",
   "id": "5f340520-0bff-4cdf-a4ae-a624a001f363",
   "metadata": {},
   "source": [
    "Exercise 7"
   ]
  },
  {
   "cell_type": "code",
   "execution_count": 17,
   "id": "0e466141-33cb-4fa6-86ee-f97734ea37c9",
   "metadata": {},
   "outputs": [
    {
     "name": "stdout",
     "output_type": "stream",
     "text": [
      "Output:\n",
      "     name  age  gender  occupation\n",
      "0  Saniya   34  Female  Programmer\n",
      "1    Sony   32    Male     Manager\n",
      "2   Manju   23  Female     Analyst\n",
      "3   Radha   24  Female     Manager\n",
      "4   Sunil   31    Male     Manager\n",
      "5    Mini   25  Female     Analyst\n",
      "6  Sarika   19  Female  Programmer\n",
      "7  Bindhu   33  Female  Programmer\n",
      "8   Munni   27  Female     Manager\n",
      "9   Annie   35  Female     Analyst\n"
     ]
    }
   ],
   "source": [
    "#  Converting this d.frame to a csv file and read that csv file, finally display the contents. \n",
    "df.to_csv(\"dataframe_csv\", index = False)\n",
    "df_read_file = pd.read_csv(\"dataframe_csv\")\n",
    "print(\"Output:\")\n",
    "print(df_read_file)"
   ]
  }
 ],
 "metadata": {
  "kernelspec": {
   "display_name": "Python [conda env:base] *",
   "language": "python",
   "name": "conda-base-py"
  },
  "language_info": {
   "codemirror_mode": {
    "name": "ipython",
    "version": 3
   },
   "file_extension": ".py",
   "mimetype": "text/x-python",
   "name": "python",
   "nbconvert_exporter": "python",
   "pygments_lexer": "ipython3",
   "version": "3.12.7"
  }
 },
 "nbformat": 4,
 "nbformat_minor": 5
}
